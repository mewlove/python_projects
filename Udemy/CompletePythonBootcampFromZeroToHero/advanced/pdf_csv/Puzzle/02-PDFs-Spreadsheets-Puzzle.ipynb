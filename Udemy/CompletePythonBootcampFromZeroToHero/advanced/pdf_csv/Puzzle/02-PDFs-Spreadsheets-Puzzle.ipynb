{
 "cells": [
  {
   "cell_type": "markdown",
   "metadata": {},
   "source": [
    "___\n",
    "\n",
    "<a href='https://www.udemy.com/user/joseportilla/'><img src='../Pierian_Data_Logo.png'/></a>\n",
    "___\n",
    "<center><em>Content Copyright by Pierian Data</em></center>"
   ]
  },
  {
   "cell_type": "markdown",
   "metadata": {},
   "source": [
    "# PDFs and Spreadsheets Puzzle Exercise\n",
    "\n",
    "Let's test your skills, the files needed for this puzzle exercise\n",
    "\n",
    "You will need to work with two files for this exercise and solve the following tasks:\n",
    "\n",
    "* Task One: Use Python to extract the Google Drive link from the .csv file. (Hint: Its along the diagonal from top left to bottom right).\n",
    "* Task Two: Download the PDF from the Google Drive link (we already downloaded it for you just in case you can't download from Google Drive) and find the phone number that is in the document. Note: There are different ways of formatting a phone number!"
   ]
  },
  {
   "cell_type": "markdown",
   "metadata": {},
   "source": [
    "## Task One: Grab the Google Drive Link from .csv File"
   ]
  },
  {
   "cell_type": "code",
   "execution_count": 1,
   "metadata": {
    "collapsed": true,
    "tags": []
   },
   "outputs": [],
   "source": [
    "import csv\n",
    "find_the_link_csv = \"find_the_link.csv\"\n",
    "f = open(find_the_link_csv,encoding='utf-8')\n",
    "csv_data= csv.reader(f)\n",
    "data_lines = list(csv_data)\n",
    "\n"
   ]
  },
  {
   "source": [
    "google_drive_link_list = []\n",
    "for i,lines in enumerate(data_lines):\n",
    "    for j,line in enumerate(lines):\n",
    "        if i==j:\n",
    "            google_drive_link_list.append(line)\n",
    "google_drive_link = \"\".join(google_drive_link_list)\n",
    "google_drive_link"
   ],
   "cell_type": "code",
   "metadata": {},
   "execution_count": 17,
   "outputs": [
    {
     "output_type": "execute_result",
     "data": {
      "text/plain": [
       "'https://drive.google.com/open?id=1G6SEgg018UB4_4xsAJJ5TdzrhmXipr4Q'"
      ]
     },
     "metadata": {},
     "execution_count": 17
    }
   ]
  },
  {
   "cell_type": "code",
   "execution_count": 14,
   "metadata": {},
   "outputs": [
    {
     "data": {
      "text/plain": [
       "'https://drive.google.com/open?id=1G6SEgg018UB4_4xsAJJ5TdzrhmXipr4Q'"
      ]
     },
     "execution_count": 14,
     "metadata": {},
     "output_type": "execute_result"
    }
   ],
   "source": [
    "# THe correct result is shown below, if you can't download from Google Drive, \n",
    "# we added the PDF file to the Exercise_Files folder already"
   ]
  },
  {
   "cell_type": "markdown",
   "metadata": {},
   "source": [
    "## Task Two: Download the PDF from the Google Drive link and find the phone number that is in the document. "
   ]
  },
  {
   "cell_type": "code",
   "execution_count": 33,
   "metadata": {},
   "outputs": [
    {
     "output_type": "stream",
     "name": "stdout",
     "text": [
      "['30,000', '60% to 30', '30,000', '60% to 30', '30,000', '60% to 30', '505.503.4455']\n\n"
     ]
    },
    {
     "output_type": "execute_result",
     "data": {
      "text/plain": [
       "['505.503.4455']"
      ]
     },
     "metadata": {},
     "execution_count": 33
    }
   ],
   "source": [
    "import PyPDF2, re\n",
    "find_the_phone_number_pdf = 'Find_the_Phone_Number.pdf'\n",
    "f = open(find_the_phone_number_pdf,'rb')\n",
    "pdf_reader = PyPDF2.PdfFileReader(f)\n",
    "\n",
    "#ASSUMING PHONE NUMBERS ARE XXXXXXX----XXXXXX---XXXXXXXX  where X's is an unknown number of digits and -'s are an unknown number of separators\n",
    "pattern = r\"\\d+.*\\d+.*\\d+\"\n",
    "search_results = []\n",
    "for page_no in range(pdf_reader.numPages):\n",
    "    page_text = pdf_reader.getPage(page_no).extractText() #type:ignore\n",
    "    search_result = re.findall(pattern, page_text)\n",
    "    search_results.extend(search_result)\n",
    "print(search_results)\n",
    "\n",
    "#It appears the number is in the format XXX.XXX.XXXX\n",
    "print() #new line\n",
    "revised_pattern = r\"\\d{3}.\\d{3}.\\d{4}\"\n",
    "new_list = []\n",
    "for i in search_results:\n",
    "    res = re.findall(revised_pattern, i)\n",
    "    new_list.extend(res)\n",
    "new_list"
   ]
  },
  {
   "cell_type": "code",
   "execution_count": 1,
   "metadata": {
    "collapsed": true
   },
   "outputs": [],
   "source": [
    "# You should get this phone number\n",
    "# 505 503 4455"
   ]
  }
 ],
 "metadata": {
  "anaconda-cloud": {},
  "kernelspec": {
   "name": "python3",
   "display_name": "Python 3.9.5 64-bit"
  },
  "language_info": {
   "codemirror_mode": {
    "name": "ipython",
    "version": 3
   },
   "file_extension": ".py",
   "mimetype": "text/x-python",
   "name": "python",
   "nbconvert_exporter": "python",
   "pygments_lexer": "ipython3",
   "version": "3.9.5"
  },
  "interpreter": {
   "hash": "bb3e4cbc9013421c3397d772462c6ad8cb73f3c0316c5bdfca12188b46f235bb"
  }
 },
 "nbformat": 4,
 "nbformat_minor": 2
}
{
 "cells": [
  {
   "cell_type": "markdown",
   "metadata": {},
   "source": [
    "___\n",
    "\n",
    "<a href='https://www.udemy.com/user/joseportilla/'><img src='../Pierian_Data_Logo.png'/></a>\n",
    "___\n",
    "<center><em>Content Copyright by Pierian Data</em></center>"
   ]
  },
  {
   "cell_type": "markdown",
   "metadata": {},
   "source": [
    "# Errors and Exceptions Homework"
   ]
  },
  {
   "cell_type": "markdown",
   "metadata": {},
   "source": [
    "### Problem 1\n",
    "Handle the exception thrown by the code below by using <code>try</code> and <code>except</code> blocks."
   ]
  },
  {
   "cell_type": "code",
   "execution_count": 4,
   "metadata": {},
   "outputs": [
    {
     "output_type": "stream",
     "name": "stdout",
     "text": [
      "TypeError: unsupported operand type(s) for ** or pow(): 'str' and 'int' =)\n"
     ]
    }
   ],
   "source": [
    "try:\n",
    "    for i in ['a','b','c']:\n",
    "        print(i**2)\n",
    "except TypeError:\n",
    "    print(f\"TypeError: unsupported operand type(s) for ** or pow(): 'str' and 'int' =)\")"
   ]
  },
  {
   "cell_type": "markdown",
   "metadata": {},
   "source": [
    "### Problem 2\n",
    "Handle the exception thrown by the code below by using <code>try</code> and <code>except</code> blocks. Then use a <code>finally</code> block to print 'All Done.'"
   ]
  },
  {
   "cell_type": "code",
   "execution_count": 5,
   "metadata": {},
   "outputs": [
    {
     "output_type": "stream",
     "name": "stdout",
     "text": [
      "ZeroDivisionError: division by zero\n5/0\n"
     ]
    }
   ],
   "source": [
    "x = 5\n",
    "y = 0\n",
    "\n",
    "try:\n",
    "    z = x/y\n",
    "except ZeroDivisionError:\n",
    "    print(\"ZeroDivisionError: division by zero\")\n",
    "    print(f\"{x}/{y}\")"
   ]
  },
  {
   "cell_type": "markdown",
   "metadata": {},
   "source": [
    "### Problem 3\n",
    "Write a function that asks for an integer and prints the square of it. Use a <code>while</code> loop with a <code>try</code>, <code>except</code>, <code>else</code> block to account for incorrect inputs."
   ]
  },
  {
   "cell_type": "code",
   "execution_count": 13,
   "metadata": {
    "collapsed": true
   },
   "outputs": [],
   "source": [
    "def ask():\n",
    "    while(True):\n",
    "        try:\n",
    "            a = int(input(\"Input an integer: \"))\n",
    "            print(a)\n",
    "        except:\n",
    "            print(\"An error occurred! Please try again!\")\n",
    "        else:\n",
    "            print(f\"Thank you. your number squared is {a**2}\")\n",
    "            break\n"
   ]
  },
  {
   "cell_type": "code",
   "execution_count": 14,
   "metadata": {},
   "outputs": [
    {
     "output_type": "stream",
     "name": "stdout",
     "text": [
      "1\nThank you. your number squared is 1\n"
     ]
    }
   ],
   "source": [
    "ask()"
   ]
  },
  {
   "cell_type": "code",
   "execution_count": null,
   "metadata": {},
   "outputs": [],
   "source": []
  }
 ],
 "metadata": {
  "kernelspec": {
   "name": "python3",
   "display_name": "Python 3.9.5 64-bit"
  },
  "language_info": {
   "codemirror_mode": {
    "name": "ipython",
    "version": 3
   },
   "file_extension": ".py",
   "mimetype": "text/x-python",
   "name": "python",
   "nbconvert_exporter": "python",
   "pygments_lexer": "ipython3",
   "version": "3.9.5"
  },
  "interpreter": {
   "hash": "bb3e4cbc9013421c3397d772462c6ad8cb73f3c0316c5bdfca12188b46f235bb"
  }
 },
 "nbformat": 4,
 "nbformat_minor": 1
}